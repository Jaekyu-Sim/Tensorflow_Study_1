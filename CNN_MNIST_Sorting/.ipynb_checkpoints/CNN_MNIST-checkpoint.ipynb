{
 "cells": [
  {
   "cell_type": "code",
   "execution_count": 2,
   "metadata": {
    "collapsed": false
   },
   "outputs": [
    {
     "name": "stdout",
     "output_type": "stream",
     "text": [
      "Extracting MNIST_data/train-images-idx3-ubyte.gz\n",
      "Extracting MNIST_data/train-labels-idx1-ubyte.gz\n",
      "Extracting MNIST_data/t10k-images-idx3-ubyte.gz\n",
      "Extracting MNIST_data/t10k-labels-idx1-ubyte.gz\n"
     ]
    }
   ],
   "source": [
    "import tensorflow as tf\n",
    "from tensorflow.examples.tutorials.mnist import input_data\n",
    "mnist = input_data.read_data_sets(\"MNIST_data/\", one_hot=True)"
   ]
  },
  {
   "cell_type": "code",
   "execution_count": 3,
   "metadata": {
    "collapsed": true
   },
   "outputs": [],
   "source": [
    "#None -> 60000, 28x28x1(이미지 가로 * 이미지 세로 * 채널 수)\n",
    "X = tf.placeholder(dtype=tf.float32, shape=[None, 28, 28, 1])\n",
    "Y = tf.placeholder(dtype=tf.float32, shape=[None, 10])\n",
    "#3x3크기, 1개의 채널, 32개의 필터를 가지는 커널.\n",
    "W1 = tf.Variable(tf.random_normal(shape=[3, 3, 1, 32], stddev=0.01))\n",
    "#strides의 원소 4개는 [batch, height, width, channels]\n",
    "L1 = tf.nn.conv2d(X, W1, padding='SAME', strides=[1, 1, 1, 1])\n",
    "L1 = tf.nn.relu(L1)\n",
    "#ksize의 가운데 원소 2개는 [height, width]\n",
    "#strides의 원소 4개는 [batch, height, width, channels] 가로 방향으로 2씩 이동하고, 다 이동을 마치면 다시 왼쪽으로 돌아온 뒤, 아래로 2칸 이동 후 다시 오른쪽으로 2씩 이동.\n",
    "L1 = tf.nn.max_pool(L1, ksize=[1, 2, 2, 1], strides=[1, 2, 2, 1], padding='SAME')\n",
    "\n",
    "W2 = tf.Variable(tf.random_normal(shape=[3, 3, 32, 64], stddev=0.01))\n",
    "L2 = tf.nn.conv2d(L1, W2, padding='SAME', strides=[1, 1, 1, 1])\n",
    "L2 = tf.nn.relu(L2)\n",
    "L2 = tf.nn.max_pool(L2, ksize=[1, 2, 2, 1], strides=[1, 2, 2, 1], padding='SAME')\n",
    "\n",
    "W3 = tf.Variable(tf.random_normal(shape=[7*7*64, 256], stddev=0.01))\n",
    "L3 = tf.reshape(L2, [-1, 7*7*64])\n",
    "L3 = tf.matmul(L3, W3)\n",
    "L3 = tf.nn.relu(L3)\n",
    "\n",
    "W4 = tf.Variable(tf.random_normal([256, 10], stddev=0.01))\n",
    "model = tf.matmul(L3, W4)"
   ]
  },
  {
   "cell_type": "code",
   "execution_count": 4,
   "metadata": {
    "collapsed": true
   },
   "outputs": [],
   "source": [
    "cost = tf.reduce_mean(tf.nn.softmax_cross_entropy_with_logits(labels=Y, logits=model))\n",
    "optimizer = tf.train.AdamOptimizer(learning_rate=0.01).minimize(cost)"
   ]
  },
  {
   "cell_type": "code",
   "execution_count": 5,
   "metadata": {
    "collapsed": true
   },
   "outputs": [],
   "source": [
    "batch_size = 100\n",
    "total_batch = int(mnist.train.num_examples / batch_size)"
   ]
  },
  {
   "cell_type": "code",
   "execution_count": 6,
   "metadata": {
    "collapsed": false
   },
   "outputs": [
    {
     "name": "stdout",
     "output_type": "stream",
     "text": [
      "epoch :  1 cost :  0.14537572401999072\n",
      "epoch :  2 cost :  0.05066927163396031\n",
      "epoch :  3 cost :  0.03890611537425271\n",
      "epoch :  4 cost :  0.03307473963518119\n",
      "epoch :  5 cost :  0.03198950803310833\n",
      "정확도: 0.9865\n"
     ]
    }
   ],
   "source": [
    "with tf.Session() as sess:\n",
    "    sess.run(tf.global_variables_initializer())\n",
    "    for epoch in range(5):\n",
    "        total_cost = 0\n",
    "        for i in range(total_batch):\n",
    "            x_batch, y_batch = mnist.train.next_batch(batch_size)\n",
    "            #print(x_batch.shape)\n",
    "            x_batch = x_batch.reshape(-1, 28, 28, 1)\n",
    "            _, cost_val = sess.run([optimizer, cost], feed_dict={X : x_batch, Y : y_batch})\n",
    "\n",
    "            total_cost = total_cost + cost_val\n",
    "        print(\"epoch : \", epoch+1, \"cost : \", total_cost / total_batch)\n",
    "        \n",
    "    is_correct = tf.equal(tf.argmax(model, 1), tf.argmax(Y, 1))\n",
    "    accuracy = tf.reduce_mean(tf.cast(is_correct, tf.float32))\n",
    "    print('정확도:', sess.run(accuracy, feed_dict={X: mnist.test.images.reshape(-1, 28, 28, 1), Y: mnist.test.labels}))"
   ]
  },
  {
   "cell_type": "code",
   "execution_count": null,
   "metadata": {
    "collapsed": true
   },
   "outputs": [],
   "source": []
  }
 ],
 "metadata": {
  "anaconda-cloud": {},
  "kernelspec": {
   "display_name": "Python [conda root]",
   "language": "python",
   "name": "conda-root-py"
  },
  "language_info": {
   "codemirror_mode": {
    "name": "ipython",
    "version": 3
   },
   "file_extension": ".py",
   "mimetype": "text/x-python",
   "name": "python",
   "nbconvert_exporter": "python",
   "pygments_lexer": "ipython3",
   "version": "3.5.2"
  }
 },
 "nbformat": 4,
 "nbformat_minor": 1
}
