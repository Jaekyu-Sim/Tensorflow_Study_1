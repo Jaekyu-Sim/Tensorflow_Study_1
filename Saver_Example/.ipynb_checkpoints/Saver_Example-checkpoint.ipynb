{
 "cells": [
  {
   "cell_type": "code",
   "execution_count": 1,
   "metadata": {
    "collapsed": false
   },
   "outputs": [
    {
     "name": "stdout",
     "output_type": "stream",
     "text": [
      "Successfully downloaded train-images-idx3-ubyte.gz 9912422 bytes.\n",
      "Extracting MNIST_data/train-images-idx3-ubyte.gz\n",
      "Successfully downloaded train-labels-idx1-ubyte.gz 28881 bytes.\n",
      "Extracting MNIST_data/train-labels-idx1-ubyte.gz\n",
      "Successfully downloaded t10k-images-idx3-ubyte.gz 1648877 bytes.\n",
      "Extracting MNIST_data/t10k-images-idx3-ubyte.gz\n",
      "Successfully downloaded t10k-labels-idx1-ubyte.gz 4542 bytes.\n",
      "Extracting MNIST_data/t10k-labels-idx1-ubyte.gz\n"
     ]
    }
   ],
   "source": [
    "import tensorflow as tf\n",
    "from tensorflow.examples.tutorials.mnist import input_data\n",
    "mnist = input_data.read_data_sets(\"MNIST_data/\", one_hot=True)"
   ]
  },
  {
   "cell_type": "code",
   "execution_count": 2,
   "metadata": {
    "collapsed": true
   },
   "outputs": [],
   "source": [
    "X = tf.placeholder(tf.float32)\n",
    "Y = tf.placeholder(tf.float32)"
   ]
  },
  {
   "cell_type": "code",
   "execution_count": 3,
   "metadata": {
    "collapsed": true
   },
   "outputs": [],
   "source": [
    "hidden_size = 10\n",
    "\n",
    "W1 = tf.Variable(tf.random_uniform(dtype=tf.float32, shape=[784, hidden_size], maxval=1.0, minval=-1.0))\n",
    "b1 = tf.Variable(tf.zeros([hidden_size]))\n",
    "\n",
    "output_size = 10\n",
    "\n",
    "W2 = tf.Variable(tf.random_uniform(dtype=tf.float32, shape=[hidden_size, output_size], maxval=1.0, minval=-1.0))\n",
    "b2 = tf.Variable(tf.zeros([output_size]))\n",
    "\n",
    "A1 = tf.matmul(X, W1) + b1\n",
    "Z1 = tf.nn.relu(A1)\n",
    "\n",
    "model = tf.matmul(Z1, W2) + b2"
   ]
  },
  {
   "cell_type": "code",
   "execution_count": 6,
   "metadata": {
    "collapsed": true
   },
   "outputs": [],
   "source": [
    "cost = tf.reduce_mean(tf.nn.softmax_cross_entropy_with_logits(labels=Y, logits=model))\n",
    "train_op = tf.train.AdamOptimizer(learning_rate=0.01).minimize(cost)\n",
    "\n",
    "batch_size = 100\n",
    "SAVE_PATH = \"C:/Users/JAEKYU/Documents/Jupyter Notebook/Tensorflow_Test/Weight/Weight.ckpt\"\n"
   ]
  },
  {
   "cell_type": "code",
   "execution_count": null,
   "metadata": {
    "collapsed": false
   },
   "outputs": [],
   "source": [
    "with tf.Session() as sess:\n",
    "    sess.run(tf.global_variables_initializer())\n",
    "    saver = tf.train.Saver()\n",
    "    for step in range(400):\n",
    "        x_batch, y_batch = mnist.train.next_batch(batch_size)\n",
    "        sess.run(train_op, feed_dict={X:x_batch, Y:y_batch})\n",
    "        if(step%100 == 0 ):\n",
    "            print(step, \"cost : \", sess.run(cost, feed_dict={X:x_batch, Y:y_batch}))\n",
    "            \n",
    "    saver.save(sess, SAVE_PATH)\n",
    "\n",
    "    correct_prediction = tf.equal(tf.argmax(Y,1), tf.argmax(model,1))\n",
    "    accuracy = tf.reduce_mean(tf.cast(correct_prediction, tf.float32))\n",
    "    print(sess.run(accuracy, feed_dict={X: mnist.test.images, Y: mnist.test.labels}))"
   ]
  },
  {
   "cell_type": "code",
   "execution_count": null,
   "metadata": {
    "collapsed": true
   },
   "outputs": [],
   "source": []
  }
 ],
 "metadata": {
  "anaconda-cloud": {},
  "kernelspec": {
   "display_name": "Python [conda root]",
   "language": "python",
   "name": "conda-root-py"
  },
  "language_info": {
   "codemirror_mode": {
    "name": "ipython",
    "version": 3
   },
   "file_extension": ".py",
   "mimetype": "text/x-python",
   "name": "python",
   "nbconvert_exporter": "python",
   "pygments_lexer": "ipython3",
   "version": "3.5.2"
  }
 },
 "nbformat": 4,
 "nbformat_minor": 1
}
